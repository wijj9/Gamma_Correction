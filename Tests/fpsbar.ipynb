{
 "cells": [
  {
   "cell_type": "code",
   "execution_count": 8,
   "id": "2ac89582-8dcd-47bb-b41d-4773e4114d6f",
   "metadata": {},
   "outputs": [],
   "source": [
    "import subprocess\n",
    "import pandas as pd\n",
    "import matplotlib.pyplot as plt\n",
    "import PIL\n",
    "from PIL import Image\n",
    "import statistics"
   ]
  },
  {
   "cell_type": "code",
   "execution_count": 9,
   "id": "71211805-ac6d-41ac-8c17-db5983edb8b4",
   "metadata": {},
   "outputs": [],
   "source": [
    "reps = 1\n",
    "gamma = 1\n",
    "version = 0\n",
    "\n",
    "path = \"/home/andreas/Documents/Uni/Projekt/team165/Implementierung/\"\n",
    "\n",
    "maxreps = 1001\n",
    "\n",
    "resolutionx = 0\n",
    "resolutiony = 0\n",
    "\n",
    "v0data8 = []\n",
    "v1data8 = []\n",
    "v2data8 = []\n",
    "v0dataX = []\n",
    "v1dataX = []\n",
    "v2dataX = []\n",
    "v0dataXSM = []\n",
    "v1dataXSM = []\n",
    "v2dataXSM = []"
   ]
  },
  {
   "cell_type": "code",
   "execution_count": 10,
   "id": "3afa14a2-9981-4252-a0a4-4459e1f9aae2",
   "metadata": {},
   "outputs": [
    {
     "name": "stdout",
     "output_type": "stream",
     "text": [
      "Resolution 1 done.\n"
     ]
    }
   ],
   "source": [
    "resolutionx = 1080\n",
    "resolutiony = 1920\n",
    "img = Image.new('RGB', (resolutionx, resolutiony))\n",
    "img.save(path + \"Input_Images/iphone8plus.ppm\")\n",
    "for i in range (1,maxreps):\n",
    "    for j in range(0,3):\n",
    "        version = j\n",
    "        args = path + \"gammaCorr\", path + \"/Input_Images/iphone8plus.ppm\", \"-o\", path + \"/Result_Images/iphone8plus.ppm\", \"-g\", str(gamma), \"-b\", str(reps), \"-v\", str(version)\n",
    "        popen = subprocess.Popen(args, stdout=subprocess.PIPE)\n",
    "        popen.wait()\n",
    "        output = popen.stdout.read()\n",
    "        if(j==0):\n",
    "            time = output[53:64]\n",
    "            v0data8.append(float(time))\n",
    "        if(j==1):\n",
    "            time = output[44:55]\n",
    "            v1data8.append(float(time))\n",
    "        if(j==2):\n",
    "            time = output[43:54]\n",
    "            v2data8.append(float(time))\n",
    "\n",
    "print(\"Resolution 1 done.\")"
   ]
  },
  {
   "cell_type": "code",
   "execution_count": 11,
   "id": "69f4f842-6d38-4dfb-9912-19e9f28818b3",
   "metadata": {},
   "outputs": [
    {
     "ename": "KeyboardInterrupt",
     "evalue": "",
     "output_type": "error",
     "traceback": [
      "\u001b[0;31m---------------------------------------------------------------------------\u001b[0m",
      "\u001b[0;31mKeyboardInterrupt\u001b[0m                         Traceback (most recent call last)",
      "Cell \u001b[0;32mIn[11], line 10\u001b[0m\n\u001b[1;32m      8\u001b[0m args \u001b[38;5;241m=\u001b[39m path \u001b[38;5;241m+\u001b[39m \u001b[38;5;124m\"\u001b[39m\u001b[38;5;124mgammaCorr\u001b[39m\u001b[38;5;124m\"\u001b[39m, path \u001b[38;5;241m+\u001b[39m \u001b[38;5;124m\"\u001b[39m\u001b[38;5;124m/Input_Images/iphoneX.ppm\u001b[39m\u001b[38;5;124m\"\u001b[39m, \u001b[38;5;124m\"\u001b[39m\u001b[38;5;124m-o\u001b[39m\u001b[38;5;124m\"\u001b[39m, path \u001b[38;5;241m+\u001b[39m \u001b[38;5;124m\"\u001b[39m\u001b[38;5;124m/Result_Images/iphoneX.ppm\u001b[39m\u001b[38;5;124m\"\u001b[39m, \u001b[38;5;124m\"\u001b[39m\u001b[38;5;124m-g\u001b[39m\u001b[38;5;124m\"\u001b[39m, \u001b[38;5;28mstr\u001b[39m(gamma), \u001b[38;5;124m\"\u001b[39m\u001b[38;5;124m-b\u001b[39m\u001b[38;5;124m\"\u001b[39m, \u001b[38;5;28mstr\u001b[39m(reps), \u001b[38;5;124m\"\u001b[39m\u001b[38;5;124m-v\u001b[39m\u001b[38;5;124m\"\u001b[39m, \u001b[38;5;28mstr\u001b[39m(version)\n\u001b[1;32m      9\u001b[0m popen \u001b[38;5;241m=\u001b[39m subprocess\u001b[38;5;241m.\u001b[39mPopen(args, stdout\u001b[38;5;241m=\u001b[39msubprocess\u001b[38;5;241m.\u001b[39mPIPE)\n\u001b[0;32m---> 10\u001b[0m \u001b[43mpopen\u001b[49m\u001b[38;5;241;43m.\u001b[39;49m\u001b[43mwait\u001b[49m\u001b[43m(\u001b[49m\u001b[43m)\u001b[49m\n\u001b[1;32m     11\u001b[0m output \u001b[38;5;241m=\u001b[39m popen\u001b[38;5;241m.\u001b[39mstdout\u001b[38;5;241m.\u001b[39mread()\n\u001b[1;32m     12\u001b[0m \u001b[38;5;28;01mif\u001b[39;00m(j\u001b[38;5;241m==\u001b[39m\u001b[38;5;241m0\u001b[39m):\n",
      "File \u001b[0;32m/usr/lib/python3.12/subprocess.py:1264\u001b[0m, in \u001b[0;36mPopen.wait\u001b[0;34m(self, timeout)\u001b[0m\n\u001b[1;32m   1262\u001b[0m     endtime \u001b[38;5;241m=\u001b[39m _time() \u001b[38;5;241m+\u001b[39m timeout\n\u001b[1;32m   1263\u001b[0m \u001b[38;5;28;01mtry\u001b[39;00m:\n\u001b[0;32m-> 1264\u001b[0m     \u001b[38;5;28;01mreturn\u001b[39;00m \u001b[38;5;28;43mself\u001b[39;49m\u001b[38;5;241;43m.\u001b[39;49m\u001b[43m_wait\u001b[49m\u001b[43m(\u001b[49m\u001b[43mtimeout\u001b[49m\u001b[38;5;241;43m=\u001b[39;49m\u001b[43mtimeout\u001b[49m\u001b[43m)\u001b[49m\n\u001b[1;32m   1265\u001b[0m \u001b[38;5;28;01mexcept\u001b[39;00m \u001b[38;5;167;01mKeyboardInterrupt\u001b[39;00m:\n\u001b[1;32m   1266\u001b[0m     \u001b[38;5;66;03m# https://bugs.python.org/issue25942\u001b[39;00m\n\u001b[1;32m   1267\u001b[0m     \u001b[38;5;66;03m# The first keyboard interrupt waits briefly for the child to\u001b[39;00m\n\u001b[1;32m   1268\u001b[0m     \u001b[38;5;66;03m# exit under the common assumption that it also received the ^C\u001b[39;00m\n\u001b[1;32m   1269\u001b[0m     \u001b[38;5;66;03m# generated SIGINT and will exit rapidly.\u001b[39;00m\n\u001b[1;32m   1270\u001b[0m     \u001b[38;5;28;01mif\u001b[39;00m timeout \u001b[38;5;129;01mis\u001b[39;00m \u001b[38;5;129;01mnot\u001b[39;00m \u001b[38;5;28;01mNone\u001b[39;00m:\n",
      "File \u001b[0;32m/usr/lib/python3.12/subprocess.py:2046\u001b[0m, in \u001b[0;36mPopen._wait\u001b[0;34m(self, timeout)\u001b[0m\n\u001b[1;32m   2044\u001b[0m \u001b[38;5;28;01mif\u001b[39;00m \u001b[38;5;28mself\u001b[39m\u001b[38;5;241m.\u001b[39mreturncode \u001b[38;5;129;01mis\u001b[39;00m \u001b[38;5;129;01mnot\u001b[39;00m \u001b[38;5;28;01mNone\u001b[39;00m:\n\u001b[1;32m   2045\u001b[0m     \u001b[38;5;28;01mbreak\u001b[39;00m  \u001b[38;5;66;03m# Another thread waited.\u001b[39;00m\n\u001b[0;32m-> 2046\u001b[0m (pid, sts) \u001b[38;5;241m=\u001b[39m \u001b[38;5;28;43mself\u001b[39;49m\u001b[38;5;241;43m.\u001b[39;49m\u001b[43m_try_wait\u001b[49m\u001b[43m(\u001b[49m\u001b[38;5;241;43m0\u001b[39;49m\u001b[43m)\u001b[49m\n\u001b[1;32m   2047\u001b[0m \u001b[38;5;66;03m# Check the pid and loop as waitpid has been known to\u001b[39;00m\n\u001b[1;32m   2048\u001b[0m \u001b[38;5;66;03m# return 0 even without WNOHANG in odd situations.\u001b[39;00m\n\u001b[1;32m   2049\u001b[0m \u001b[38;5;66;03m# http://bugs.python.org/issue14396.\u001b[39;00m\n\u001b[1;32m   2050\u001b[0m \u001b[38;5;28;01mif\u001b[39;00m pid \u001b[38;5;241m==\u001b[39m \u001b[38;5;28mself\u001b[39m\u001b[38;5;241m.\u001b[39mpid:\n",
      "File \u001b[0;32m/usr/lib/python3.12/subprocess.py:2004\u001b[0m, in \u001b[0;36mPopen._try_wait\u001b[0;34m(self, wait_flags)\u001b[0m\n\u001b[1;32m   2002\u001b[0m \u001b[38;5;250m\u001b[39m\u001b[38;5;124;03m\"\"\"All callers to this function MUST hold self._waitpid_lock.\"\"\"\u001b[39;00m\n\u001b[1;32m   2003\u001b[0m \u001b[38;5;28;01mtry\u001b[39;00m:\n\u001b[0;32m-> 2004\u001b[0m     (pid, sts) \u001b[38;5;241m=\u001b[39m \u001b[43mos\u001b[49m\u001b[38;5;241;43m.\u001b[39;49m\u001b[43mwaitpid\u001b[49m\u001b[43m(\u001b[49m\u001b[38;5;28;43mself\u001b[39;49m\u001b[38;5;241;43m.\u001b[39;49m\u001b[43mpid\u001b[49m\u001b[43m,\u001b[49m\u001b[43m \u001b[49m\u001b[43mwait_flags\u001b[49m\u001b[43m)\u001b[49m\n\u001b[1;32m   2005\u001b[0m \u001b[38;5;28;01mexcept\u001b[39;00m \u001b[38;5;167;01mChildProcessError\u001b[39;00m:\n\u001b[1;32m   2006\u001b[0m     \u001b[38;5;66;03m# This happens if SIGCLD is set to be ignored or waiting\u001b[39;00m\n\u001b[1;32m   2007\u001b[0m     \u001b[38;5;66;03m# for child processes has otherwise been disabled for our\u001b[39;00m\n\u001b[1;32m   2008\u001b[0m     \u001b[38;5;66;03m# process.  This child is dead, we can't get the status.\u001b[39;00m\n\u001b[1;32m   2009\u001b[0m     pid \u001b[38;5;241m=\u001b[39m \u001b[38;5;28mself\u001b[39m\u001b[38;5;241m.\u001b[39mpid\n",
      "\u001b[0;31mKeyboardInterrupt\u001b[0m: "
     ]
    }
   ],
   "source": [
    "resolutionx = 1125\n",
    "resolutiony = 2436\n",
    "img = Image.new('RGB', (resolutionx, resolutiony))\n",
    "img.save(path + \"Input_Images/iphoneX.ppm\")\n",
    "for i in range (1,maxreps):\n",
    "    for j in range(0,3):\n",
    "        version = j\n",
    "        args = path + \"gammaCorr\", path + \"/Input_Images/iphoneX.ppm\", \"-o\", path + \"/Result_Images/iphoneX.ppm\", \"-g\", str(gamma), \"-b\", str(reps), \"-v\", str(version)\n",
    "        popen = subprocess.Popen(args, stdout=subprocess.PIPE)\n",
    "        popen.wait()\n",
    "        output = popen.stdout.read()\n",
    "        if(j==0):\n",
    "            time = output[53:64]\n",
    "            v0dataX.append(float(time))\n",
    "        if(j==1):\n",
    "            time = output[44:55]\n",
    "            v1dataX.append(float(time))\n",
    "        if(j==2):\n",
    "            time = output[43:54]\n",
    "            v2dataX.append(float(time))\n",
    "\n",
    "print(\"Resolution 2 done.\")"
   ]
  },
  {
   "cell_type": "code",
   "execution_count": null,
   "id": "59a8cb4e-769a-4676-8d9d-59fbafeb3e29",
   "metadata": {},
   "outputs": [],
   "source": [
    "resolutionx = 1242\n",
    "resolutiony = 2688\n",
    "img = Image.new('RGB', (resolutionx, resolutiony))\n",
    "img.save(path + \"Input_Images/iphoneXSM.ppm\")\n",
    "for i in range (1,maxreps):\n",
    "    for j in range(0,3):\n",
    "        version = j\n",
    "        args = path + \"gammaCorr\", path + \"/Input_Images/iphoneXSM.ppm\", \"-o\", path + \"/Result_Images/iphoneXSM.ppm\", \"-g\", str(gamma), \"-b\", str(reps), \"-v\", str(version)\n",
    "        popen = subprocess.Popen(args, stdout=subprocess.PIPE)\n",
    "        popen.wait()\n",
    "        output = popen.stdout.read()\n",
    "        if(j==0):\n",
    "            time = output[53:64]\n",
    "            v0dataXSM.append(float(time))\n",
    "        if(j==1):\n",
    "            time = output[44:55]\n",
    "            v1dataXSM.append(float(time))\n",
    "        if(j==2):\n",
    "            time = output[43:54]\n",
    "            v2dataXSM.append(float(time))\n",
    "\n",
    "print(\"Resolution 3 done.\")"
   ]
  },
  {
   "cell_type": "code",
   "execution_count": null,
   "id": "a4900314-e43f-4d7c-aa52-3c7fdcba551e",
   "metadata": {},
   "outputs": [],
   "source": [
    "v0data8mean = 1/statistics.mean(v0data8)\n",
    "v1data8mean = 1/statistics.mean(v1data8)\n",
    "v2data8mean = 1/statistics.mean(v2data8)\n",
    "v0dataXmean = 1/statistics.mean(v0dataX)\n",
    "v1dataXmean = 1/statistics.mean(v1dataX)\n",
    "v2dataXmean = 1/statistics.mean(v2dataX)\n",
    "v0dataXSMmean = 1/statistics.mean(v0dataXSM)\n",
    "v1dataXSMmean = 1/statistics.mean(v1dataXSM)\n",
    "v2dataXSMmean = 1/statistics.mean(v2dataXSM)\n",
    "\n",
    "df = pd.DataFrame({\n",
    "    'Version': ['0', '1', '2'],\n",
    "    'IPhone 8 Plus': [v0data8mean, v1data8mean, v2data8mean],\n",
    "    'IPhone X': [v0dataXmean, v1dataXmean, v2dataXmean],\n",
    "    'IPhone XS Max': [v0dataXSMmean, v1dataXSMmean, v2dataXSMmean]\n",
    "})\n",
    "\n",
    "ax = df.plot(x = \"Version\", y = [\"IPhone 8 Plus\", \"IPhone X\", \"IPhone XS Max\"], kind = \"bar\")\n",
    "ax.set(ylabel = \"Frames per Second\")"
   ]
  },
  {
   "cell_type": "code",
   "execution_count": null,
   "id": "6d88aca3-623d-49fc-a4fd-935cc38726bf",
   "metadata": {},
   "outputs": [],
   "source": [
    "ax.get_figure().savefig('fpsbar.png')"
   ]
  },
  {
   "cell_type": "code",
   "execution_count": null,
   "id": "f44f5b73-f587-4119-91fa-96acf77ede2b",
   "metadata": {},
   "outputs": [],
   "source": []
  }
 ],
 "metadata": {
  "kernelspec": {
   "display_name": "Python 3 (ipykernel)",
   "language": "python",
   "name": "python3"
  },
  "language_info": {
   "codemirror_mode": {
    "name": "ipython",
    "version": 3
   },
   "file_extension": ".py",
   "mimetype": "text/x-python",
   "name": "python",
   "nbconvert_exporter": "python",
   "pygments_lexer": "ipython3",
   "version": "3.12.0"
  }
 },
 "nbformat": 4,
 "nbformat_minor": 5
}
